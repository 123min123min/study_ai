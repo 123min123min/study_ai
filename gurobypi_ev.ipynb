{
 "cells": [
  {
   "cell_type": "code",
   "execution_count": 2,
   "metadata": {},
   "outputs": [
    {
     "name": "stdout",
     "output_type": "stream",
     "text": [
      "Set parameter NonConvex to value 2\n",
      "Gurobi Optimizer version 12.0.1 build v12.0.1rc0 (win64 - Windows 11.0 (26100.2))\n",
      "\n",
      "CPU model: AMD Ryzen 9 7900 12-Core Processor, instruction set [SSE2|AVX|AVX2|AVX512]\n",
      "Thread count: 12 physical cores, 24 logical processors, using up to 24 threads\n",
      "\n",
      "Non-default parameters:\n",
      "NonConvex  2\n",
      "\n",
      "Optimize a model with 1 rows, 2 columns and 2 nonzeros\n",
      "Model fingerprint: 0x3d2033b4\n",
      "Model has 1 quadratic objective term\n",
      "Coefficient statistics:\n",
      "  Matrix range     [1e+00, 1e+00]\n",
      "  Objective range  [1e+00, 1e+00]\n"
     ]
    },
    {
     "name": "stdout",
     "output_type": "stream",
     "text": [
      "  QObjective range [2e+00, 2e+00]\n",
      "  Bounds range     [2e+00, 2e+00]\n",
      "  RHS range        [1e+00, 1e+00]\n",
      "Presolve removed 1 rows and 2 columns\n",
      "Presolve time: 0.00s\n",
      "Presolve: All rows and columns removed\n",
      "\n",
      "Barrier solved model in 0 iterations and 0.00 seconds (0.00 work units)\n",
      "Optimal objective 9.00000000e+00\n",
      "최적해:\n",
      "x = 2.0\n",
      "y = 2.0\n",
      "최소 목적함수 값 = 9.0\n"
     ]
    }
   ],
   "source": [
    "import gurobipy as gp\n",
    "from gurobipy import GRB\n",
    "\n",
    "# 모델 생성\n",
    "model = gp.Model(\"minimize_expression\")\n",
    "\n",
    "# 비볼록 목적함수를 허용하기 위한 파라미터 설정\n",
    "model.setParam('NonConvex', 2)\n",
    "\n",
    "# 변수 추가 (여기서는 변수의 범위를 [-10, 10]으로 제한)\n",
    "x = model.addVar(lb=2, ub=2, name=\"x\")\n",
    "y = model.addVar(lb=2, ub=2, name=\"y\")\n",
    "model.addConstr(x + y >= 1, \"c1\")\n",
    "# 목적함수 설정: minimize y - x^2 + 3\n",
    "model.setObjective(y + x*x + 3, GRB.MINIMIZE)\n",
    "\n",
    "# 최적화 실행\n",
    "model.optimize()\n",
    "\n",
    "# 최적해 출력\n",
    "if model.status == GRB.OPTIMAL:\n",
    "    print(\"최적해:\")\n",
    "    print(\"x =\", x.X)\n",
    "    print(\"y =\", y.X)\n",
    "    print(\"최소 목적함수 값 =\", model.objVal)\n",
    "else:\n",
    "    print(\"최적해를 찾지 못했습니다. 상태 코드:\", model.status)\n"
   ]
  }
 ],
 "metadata": {
  "kernelspec": {
   "display_name": "base",
   "language": "python",
   "name": "python3"
  },
  "language_info": {
   "codemirror_mode": {
    "name": "ipython",
    "version": 3
   },
   "file_extension": ".py",
   "mimetype": "text/x-python",
   "name": "python",
   "nbconvert_exporter": "python",
   "pygments_lexer": "ipython3",
   "version": "3.12.7"
  }
 },
 "nbformat": 4,
 "nbformat_minor": 2
}
